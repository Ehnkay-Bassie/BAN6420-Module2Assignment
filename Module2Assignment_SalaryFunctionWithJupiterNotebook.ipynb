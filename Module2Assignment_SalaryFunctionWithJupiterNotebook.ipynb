{
 "cells": [
  {
   "cell_type": "markdown",
   "id": "b2a76904-4239-484a-ace3-8c84f19ede44",
   "metadata": {},
   "source": [
    "# Import the packages used"
   ]
  },
  {
   "cell_type": "code",
   "execution_count": 79,
   "id": "2baa431d-be2a-4b4e-bd2b-9dfbbd77c490",
   "metadata": {},
   "outputs": [],
   "source": [
    "import pandas as pd\n",
    "import os \n",
    "import csv \n",
    "import zipfile"
   ]
  },
  {
   "cell_type": "markdown",
   "id": "11ac6617-40d7-4702-81ab-f5c147a9d2e0",
   "metadata": {},
   "source": [
    "# Import the Salary Data"
   ]
  },
  {
   "cell_type": "code",
   "execution_count": 81,
   "id": "161e0df5-6758-45f2-84d2-cababf0e5e37",
   "metadata": {},
   "outputs": [
    {
     "name": "stderr",
     "output_type": "stream",
     "text": [
      "C:\\Users\\Assasin\\AppData\\Local\\Temp\\ipykernel_7228\\615467065.py:2: DtypeWarning: Columns (2,3,4,5) have mixed types. Specify dtype option on import or set low_memory=False.\n",
      "  data = pd.read_csv('Total.csv')\n"
     ]
    }
   ],
   "source": [
    "# Importing and Reading the CSV file\n",
    "data = pd.read_csv('Total.csv')"
   ]
  },
  {
   "cell_type": "code",
   "execution_count": 83,
   "id": "a3e2d6b5-77a8-48e7-afe4-34e0d68947fe",
   "metadata": {},
   "outputs": [],
   "source": [
    "# Converting the data to Pandas DataFrame format for easy readability\n",
    "df = pd.DataFrame(data)"
   ]
  },
  {
   "cell_type": "code",
   "execution_count": 85,
   "id": "c9790fb1-8c8e-4aac-9333-68a7eaaadcdf",
   "metadata": {},
   "outputs": [
    {
     "data": {
      "text/html": [
       "<div>\n",
       "<style scoped>\n",
       "    .dataframe tbody tr th:only-of-type {\n",
       "        vertical-align: middle;\n",
       "    }\n",
       "\n",
       "    .dataframe tbody tr th {\n",
       "        vertical-align: top;\n",
       "    }\n",
       "\n",
       "    .dataframe thead th {\n",
       "        text-align: right;\n",
       "    }\n",
       "</style>\n",
       "<table border=\"1\" class=\"dataframe\">\n",
       "  <thead>\n",
       "    <tr style=\"text-align: right;\">\n",
       "      <th></th>\n",
       "      <th>EmployeeName</th>\n",
       "      <th>JobTitle</th>\n",
       "      <th>BasePay</th>\n",
       "      <th>OvertimePay</th>\n",
       "      <th>OtherPay</th>\n",
       "      <th>Benefits</th>\n",
       "      <th>TotalPay</th>\n",
       "      <th>TotalPayBenefits</th>\n",
       "      <th>Year</th>\n",
       "    </tr>\n",
       "  </thead>\n",
       "  <tbody>\n",
       "    <tr>\n",
       "      <th>0</th>\n",
       "      <td>NATHANIEL FORD</td>\n",
       "      <td>GENERAL MANAGER-METROPOLITAN TRANSIT AUTHORITY</td>\n",
       "      <td>167411.18</td>\n",
       "      <td>0.0</td>\n",
       "      <td>400184.25</td>\n",
       "      <td>Not Provided</td>\n",
       "      <td>567595.43</td>\n",
       "      <td>567595.43</td>\n",
       "      <td>2011</td>\n",
       "    </tr>\n",
       "    <tr>\n",
       "      <th>1</th>\n",
       "      <td>GARY JIMENEZ</td>\n",
       "      <td>CAPTAIN III (POLICE DEPARTMENT)</td>\n",
       "      <td>155966.02</td>\n",
       "      <td>245131.88</td>\n",
       "      <td>137811.38</td>\n",
       "      <td>Not Provided</td>\n",
       "      <td>538909.28</td>\n",
       "      <td>538909.28</td>\n",
       "      <td>2011</td>\n",
       "    </tr>\n",
       "    <tr>\n",
       "      <th>2</th>\n",
       "      <td>ALBERT PARDINI</td>\n",
       "      <td>CAPTAIN III (POLICE DEPARTMENT)</td>\n",
       "      <td>212739.13</td>\n",
       "      <td>106088.18</td>\n",
       "      <td>16452.6</td>\n",
       "      <td>Not Provided</td>\n",
       "      <td>335279.91</td>\n",
       "      <td>335279.91</td>\n",
       "      <td>2011</td>\n",
       "    </tr>\n",
       "    <tr>\n",
       "      <th>3</th>\n",
       "      <td>CHRISTOPHER CHONG</td>\n",
       "      <td>WIRE ROPE CABLE MAINTENANCE MECHANIC</td>\n",
       "      <td>77916.0</td>\n",
       "      <td>56120.71</td>\n",
       "      <td>198306.9</td>\n",
       "      <td>Not Provided</td>\n",
       "      <td>332343.61</td>\n",
       "      <td>332343.61</td>\n",
       "      <td>2011</td>\n",
       "    </tr>\n",
       "    <tr>\n",
       "      <th>4</th>\n",
       "      <td>PATRICK GARDNER</td>\n",
       "      <td>DEPUTY CHIEF OF DEPARTMENT,(FIRE DEPARTMENT)</td>\n",
       "      <td>134401.6</td>\n",
       "      <td>9737.0</td>\n",
       "      <td>182234.59</td>\n",
       "      <td>Not Provided</td>\n",
       "      <td>326373.19</td>\n",
       "      <td>326373.19</td>\n",
       "      <td>2011</td>\n",
       "    </tr>\n",
       "  </tbody>\n",
       "</table>\n",
       "</div>"
      ],
      "text/plain": [
       "        EmployeeName                                        JobTitle  \\\n",
       "0     NATHANIEL FORD  GENERAL MANAGER-METROPOLITAN TRANSIT AUTHORITY   \n",
       "1       GARY JIMENEZ                 CAPTAIN III (POLICE DEPARTMENT)   \n",
       "2     ALBERT PARDINI                 CAPTAIN III (POLICE DEPARTMENT)   \n",
       "3  CHRISTOPHER CHONG            WIRE ROPE CABLE MAINTENANCE MECHANIC   \n",
       "4    PATRICK GARDNER    DEPUTY CHIEF OF DEPARTMENT,(FIRE DEPARTMENT)   \n",
       "\n",
       "     BasePay OvertimePay   OtherPay      Benefits   TotalPay  \\\n",
       "0  167411.18         0.0  400184.25  Not Provided  567595.43   \n",
       "1  155966.02   245131.88  137811.38  Not Provided  538909.28   \n",
       "2  212739.13   106088.18    16452.6  Not Provided  335279.91   \n",
       "3    77916.0    56120.71   198306.9  Not Provided  332343.61   \n",
       "4   134401.6      9737.0  182234.59  Not Provided  326373.19   \n",
       "\n",
       "   TotalPayBenefits  Year  \n",
       "0         567595.43  2011  \n",
       "1         538909.28  2011  \n",
       "2         335279.91  2011  \n",
       "3         332343.61  2011  \n",
       "4         326373.19  2011  "
      ]
     },
     "execution_count": 85,
     "metadata": {},
     "output_type": "execute_result"
    }
   ],
   "source": [
    "# Displaying the first 5 rows of the data\n",
    "df.head()"
   ]
  },
  {
   "cell_type": "markdown",
   "id": "e38e5309-403a-4423-a33e-d667b7fca0be",
   "metadata": {},
   "source": [
    "# Create Employee Function"
   ]
  },
  {
   "cell_type": "code",
   "execution_count": 87,
   "id": "cb1beff2-1681-4c69-918a-481c0b93dd68",
   "metadata": {},
   "outputs": [],
   "source": [
    "# Create a function to read employee details by inputting the name\n",
    "def get_employee_details(employee_name):\n",
    "    employee = df[df['EmployeeName'] == employee_name]\n",
    "    if not employee.empty:\n",
    "        return employee.to_dict('records')[0]\n",
    "    else:\n",
    "        print(f\"Employee named {employee_name} not found.\")"
   ]
  },
  {
   "cell_type": "code",
   "execution_count": 89,
   "id": "5515377e-3b2e-409c-bc2b-352ad83ae11e",
   "metadata": {},
   "outputs": [
    {
     "name": "stdout",
     "output_type": "stream",
     "text": [
      "{'EmployeeName': 'GARY JIMENEZ', 'JobTitle': 'CAPTAIN III (POLICE DEPARTMENT)', 'BasePay': 155966.02, 'OvertimePay': 245131.88, 'OtherPay': 137811.38, 'Benefits': 'Not Provided', 'TotalPay': 538909.28, 'TotalPayBenefits': 538909.28, 'Year': 2011}\n"
     ]
    }
   ],
   "source": [
    "# Test the function \n",
    "print(get_employee_details('GARY JIMENEZ'))"
   ]
  },
  {
   "cell_type": "code",
   "execution_count": 91,
   "id": "f623c907-0e33-4a96-ab34-ba918a10c8e5",
   "metadata": {},
   "outputs": [
    {
     "name": "stdout",
     "output_type": "stream",
     "text": [
      "Employee named Lesley Jerry not found.\n",
      "None\n"
     ]
    }
   ],
   "source": [
    "# Testing the function for a name that is not captured in the file\n",
    "print(get_employee_details('Lesley Jerry'))"
   ]
  },
  {
   "cell_type": "markdown",
   "id": "ba39a75f-26f7-43d1-b5a7-43bb679ba7a5",
   "metadata": {},
   "source": [
    "# Data Processing with Dictionary"
   ]
  },
  {
   "cell_type": "code",
   "execution_count": 93,
   "id": "1cb67a4e-87a5-4488-a1d3-59ac855c0c5a",
   "metadata": {},
   "outputs": [],
   "source": [
    "# Convert DataFrame to dictionary using the DataFrame index\n",
    "data_dict = df.to_dict('index')"
   ]
  },
  {
   "cell_type": "code",
   "execution_count": 95,
   "id": "7bda83a1-597d-4889-a850-f9de9d04e2e8",
   "metadata": {},
   "outputs": [
    {
     "data": {
      "text/plain": [
       "{'EmployeeName': 'GARY JIMENEZ',\n",
       " 'JobTitle': 'CAPTAIN III (POLICE DEPARTMENT)',\n",
       " 'BasePay': 155966.02,\n",
       " 'OvertimePay': 245131.88,\n",
       " 'OtherPay': 137811.38,\n",
       " 'Benefits': 'Not Provided',\n",
       " 'TotalPay': 538909.28,\n",
       " 'TotalPayBenefits': 538909.28,\n",
       " 'Year': 2011}"
      ]
     },
     "execution_count": 95,
     "metadata": {},
     "output_type": "execute_result"
    }
   ],
   "source": [
    "# Displaying the second record of the Data; indexing starts from 0, 1...\n",
    "data_dict[1]\n",
    "# To display all rows at once, use just 'data_dict'"
   ]
  },
  {
   "cell_type": "markdown",
   "id": "6d121909-82b5-4912-8c75-36455e2e805e",
   "metadata": {},
   "source": [
    "# Error Handling "
   ]
  },
  {
   "cell_type": "code",
   "execution_count": 97,
   "id": "2915604d-0327-4f21-8013-e6d9ea323e98",
   "metadata": {},
   "outputs": [],
   "source": [
    "# Creating a function to handle errors\n",
    "def get_employee_details_safe(employee_name):\n",
    "    try:\n",
    "        employee = df[df['EmployeeName'] == employee_name]\n",
    "        if not employee.empty:\n",
    "            return employee.to_dict('records')[0]\n",
    "        else:\n",
    "            raise ValueError(f\"Employee named {employee_name} not found.\")\n",
    "    except Exception as e:\n",
    "        print(f\"An error occurred: {e}\")\n",
    "        return None"
   ]
  },
  {
   "cell_type": "code",
   "execution_count": 99,
   "id": "8585d9ad-2785-46d7-b891-e73a1d60c5a3",
   "metadata": {},
   "outputs": [
    {
     "name": "stdout",
     "output_type": "stream",
     "text": [
      "{'EmployeeName': 'NATHANIEL FORD', 'JobTitle': 'GENERAL MANAGER-METROPOLITAN TRANSIT AUTHORITY', 'BasePay': 167411.18, 'OvertimePay': 0.0, 'OtherPay': 400184.25, 'Benefits': 'Not Provided', 'TotalPay': 567595.43, 'TotalPayBenefits': 567595.43, 'Year': 2011}\n"
     ]
    }
   ],
   "source": [
    "# Test the error handling function - with a name in the file\n",
    "print(get_employee_details_safe('NATHANIEL FORD'))"
   ]
  },
  {
   "cell_type": "code",
   "execution_count": 101,
   "id": "fb3e625d-e6e4-494f-99ff-cf3963f91376",
   "metadata": {},
   "outputs": [
    {
     "name": "stdout",
     "output_type": "stream",
     "text": [
      "An error occurred: Employee named LESLEY JERRY not found.\n",
      "None\n"
     ]
    }
   ],
   "source": [
    "# Test the error handling function - with a name NOT found in the file \n",
    "print(get_employee_details_safe('LESLEY JERRY'))"
   ]
  },
  {
   "cell_type": "markdown",
   "id": "3788693a-4779-4efb-9d17-d11082f13775",
   "metadata": {},
   "source": [
    "# Export Employee Details"
   ]
  },
  {
   "cell_type": "code",
   "execution_count": 103,
   "id": "05d17f80-5cb5-4b80-84e1-b9f0cbf235b7",
   "metadata": {},
   "outputs": [],
   "source": [
    "# Creating a function to export Employee Details as Employee Profile using the CSV and Packaging it as Zip file\n",
    "def export_employee_details(employee_name):\n",
    "    try:\n",
    "        employee = get_employee_details(employee_name)\n",
    "        if employee:\n",
    "            #Replace empty spaces in employee names with underscore\n",
    "            filename = f\"{employee_name.replace(' ', '_')}.csv\"\n",
    "            with open(filename, 'w', newline='') as csvfile:\n",
    "                writer = csv.DictWriter(csvfile, fieldnames=employee.keys())\n",
    "                writer.writeheader()\n",
    "                writer.writerow(employee)\n",
    "            with zipfile.ZipFile('EmployeeProfile.zip', 'w') as zipf:\n",
    "                zipf.write(filename)\n",
    "            os.remove(filename) \n",
    "            print(f\"Employee details for {employee_name} exported and zipped successfully!\")\n",
    "        else:\n",
    "            raise ValueError(f\"Employee named {employee_name} not found.\")\n",
    "    except Exception as e:\n",
    "        print(f\"An error occurred: {e}\")\n"
   ]
  },
  {
   "cell_type": "code",
   "execution_count": 105,
   "id": "a99a77d3-e5a0-4146-b5dd-5ec3ab485e2f",
   "metadata": {},
   "outputs": [
    {
     "name": "stdout",
     "output_type": "stream",
     "text": [
      "Employee details for NATHANIEL FORD exported and zipped successfully!\n"
     ]
    }
   ],
   "source": [
    "# Test the export function\n",
    "export_employee_details('NATHANIEL FORD')"
   ]
  },
  {
   "cell_type": "code",
   "execution_count": null,
   "id": "d3827e9d-5786-48d1-bdf4-f9ddc2b04463",
   "metadata": {},
   "outputs": [],
   "source": []
  }
 ],
 "metadata": {
  "kernelspec": {
   "display_name": "Python 3 (ipykernel)",
   "language": "python",
   "name": "python3"
  },
  "language_info": {
   "codemirror_mode": {
    "name": "ipython",
    "version": 3
   },
   "file_extension": ".py",
   "mimetype": "text/x-python",
   "name": "python",
   "nbconvert_exporter": "python",
   "pygments_lexer": "ipython3",
   "version": "3.12.4"
  }
 },
 "nbformat": 4,
 "nbformat_minor": 5
}
